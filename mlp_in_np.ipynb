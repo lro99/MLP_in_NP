{
  "nbformat": 4,
  "nbformat_minor": 0,
  "metadata": {
    "colab": {
      "provenance": [],
      "include_colab_link": true
    },
    "kernelspec": {
      "name": "python3",
      "display_name": "Python 3"
    },
    "language_info": {
      "name": "python"
    }
  },
  "cells": [
    {
      "cell_type": "markdown",
      "metadata": {
        "id": "view-in-github",
        "colab_type": "text"
      },
      "source": [
        "<a href=\"https://colab.research.google.com/github/lro99/MLP_in_NP/blob/main/mlp_in_np.ipynb\" target=\"_parent\"><img src=\"https://colab.research.google.com/assets/colab-badge.svg\" alt=\"Open In Colab\"/></a>"
      ]
    },
    {
      "cell_type": "code",
      "execution_count": null,
      "metadata": {
        "id": "Qp2PSGKtHESA"
      },
      "outputs": [],
      "source": [
        "import numpy as np\n",
        "import pandas as pd"
      ]
    },
    {
      "cell_type": "code",
      "source": [
        "df = pd.read_csv(\"loan_data.csv\")"
      ],
      "metadata": {
        "id": "q8tIq5evHGI9"
      },
      "execution_count": null,
      "outputs": []
    },
    {
      "cell_type": "code",
      "source": [
        "df.head()"
      ],
      "metadata": {
        "colab": {
          "base_uri": "https://localhost:8080/",
          "height": 226
        },
        "id": "moHVomeGHP7B",
        "outputId": "7343aac8-00dd-41ff-b560-cf39706be266"
      },
      "execution_count": null,
      "outputs": [
        {
          "output_type": "execute_result",
          "data": {
            "text/plain": [
              "   credit.policy             purpose  int.rate  installment  log.annual.inc  \\\n",
              "0              1  debt_consolidation    0.1189       829.10       11.350407   \n",
              "1              1         credit_card    0.1071       228.22       11.082143   \n",
              "2              1  debt_consolidation    0.1357       366.86       10.373491   \n",
              "3              1  debt_consolidation    0.1008       162.34       11.350407   \n",
              "4              1         credit_card    0.1426       102.92       11.299732   \n",
              "\n",
              "     dti  fico  days.with.cr.line  revol.bal  revol.util  inq.last.6mths  \\\n",
              "0  19.48   737        5639.958333      28854        52.1               0   \n",
              "1  14.29   707        2760.000000      33623        76.7               0   \n",
              "2  11.63   682        4710.000000       3511        25.6               1   \n",
              "3   8.10   712        2699.958333      33667        73.2               1   \n",
              "4  14.97   667        4066.000000       4740        39.5               0   \n",
              "\n",
              "   delinq.2yrs  pub.rec  not.fully.paid  \n",
              "0            0        0               0  \n",
              "1            0        0               0  \n",
              "2            0        0               0  \n",
              "3            0        0               0  \n",
              "4            1        0               0  "
            ],
            "text/html": [
              "\n",
              "  <div id=\"df-05b629ef-60c3-48e6-a8c5-304d0309c8b7\" class=\"colab-df-container\">\n",
              "    <div>\n",
              "<style scoped>\n",
              "    .dataframe tbody tr th:only-of-type {\n",
              "        vertical-align: middle;\n",
              "    }\n",
              "\n",
              "    .dataframe tbody tr th {\n",
              "        vertical-align: top;\n",
              "    }\n",
              "\n",
              "    .dataframe thead th {\n",
              "        text-align: right;\n",
              "    }\n",
              "</style>\n",
              "<table border=\"1\" class=\"dataframe\">\n",
              "  <thead>\n",
              "    <tr style=\"text-align: right;\">\n",
              "      <th></th>\n",
              "      <th>credit.policy</th>\n",
              "      <th>purpose</th>\n",
              "      <th>int.rate</th>\n",
              "      <th>installment</th>\n",
              "      <th>log.annual.inc</th>\n",
              "      <th>dti</th>\n",
              "      <th>fico</th>\n",
              "      <th>days.with.cr.line</th>\n",
              "      <th>revol.bal</th>\n",
              "      <th>revol.util</th>\n",
              "      <th>inq.last.6mths</th>\n",
              "      <th>delinq.2yrs</th>\n",
              "      <th>pub.rec</th>\n",
              "      <th>not.fully.paid</th>\n",
              "    </tr>\n",
              "  </thead>\n",
              "  <tbody>\n",
              "    <tr>\n",
              "      <th>0</th>\n",
              "      <td>1</td>\n",
              "      <td>debt_consolidation</td>\n",
              "      <td>0.1189</td>\n",
              "      <td>829.10</td>\n",
              "      <td>11.350407</td>\n",
              "      <td>19.48</td>\n",
              "      <td>737</td>\n",
              "      <td>5639.958333</td>\n",
              "      <td>28854</td>\n",
              "      <td>52.1</td>\n",
              "      <td>0</td>\n",
              "      <td>0</td>\n",
              "      <td>0</td>\n",
              "      <td>0</td>\n",
              "    </tr>\n",
              "    <tr>\n",
              "      <th>1</th>\n",
              "      <td>1</td>\n",
              "      <td>credit_card</td>\n",
              "      <td>0.1071</td>\n",
              "      <td>228.22</td>\n",
              "      <td>11.082143</td>\n",
              "      <td>14.29</td>\n",
              "      <td>707</td>\n",
              "      <td>2760.000000</td>\n",
              "      <td>33623</td>\n",
              "      <td>76.7</td>\n",
              "      <td>0</td>\n",
              "      <td>0</td>\n",
              "      <td>0</td>\n",
              "      <td>0</td>\n",
              "    </tr>\n",
              "    <tr>\n",
              "      <th>2</th>\n",
              "      <td>1</td>\n",
              "      <td>debt_consolidation</td>\n",
              "      <td>0.1357</td>\n",
              "      <td>366.86</td>\n",
              "      <td>10.373491</td>\n",
              "      <td>11.63</td>\n",
              "      <td>682</td>\n",
              "      <td>4710.000000</td>\n",
              "      <td>3511</td>\n",
              "      <td>25.6</td>\n",
              "      <td>1</td>\n",
              "      <td>0</td>\n",
              "      <td>0</td>\n",
              "      <td>0</td>\n",
              "    </tr>\n",
              "    <tr>\n",
              "      <th>3</th>\n",
              "      <td>1</td>\n",
              "      <td>debt_consolidation</td>\n",
              "      <td>0.1008</td>\n",
              "      <td>162.34</td>\n",
              "      <td>11.350407</td>\n",
              "      <td>8.10</td>\n",
              "      <td>712</td>\n",
              "      <td>2699.958333</td>\n",
              "      <td>33667</td>\n",
              "      <td>73.2</td>\n",
              "      <td>1</td>\n",
              "      <td>0</td>\n",
              "      <td>0</td>\n",
              "      <td>0</td>\n",
              "    </tr>\n",
              "    <tr>\n",
              "      <th>4</th>\n",
              "      <td>1</td>\n",
              "      <td>credit_card</td>\n",
              "      <td>0.1426</td>\n",
              "      <td>102.92</td>\n",
              "      <td>11.299732</td>\n",
              "      <td>14.97</td>\n",
              "      <td>667</td>\n",
              "      <td>4066.000000</td>\n",
              "      <td>4740</td>\n",
              "      <td>39.5</td>\n",
              "      <td>0</td>\n",
              "      <td>1</td>\n",
              "      <td>0</td>\n",
              "      <td>0</td>\n",
              "    </tr>\n",
              "  </tbody>\n",
              "</table>\n",
              "</div>\n",
              "    <div class=\"colab-df-buttons\">\n",
              "\n",
              "  <div class=\"colab-df-container\">\n",
              "    <button class=\"colab-df-convert\" onclick=\"convertToInteractive('df-05b629ef-60c3-48e6-a8c5-304d0309c8b7')\"\n",
              "            title=\"Convert this dataframe to an interactive table.\"\n",
              "            style=\"display:none;\">\n",
              "\n",
              "  <svg xmlns=\"http://www.w3.org/2000/svg\" height=\"24px\" viewBox=\"0 -960 960 960\">\n",
              "    <path d=\"M120-120v-720h720v720H120Zm60-500h600v-160H180v160Zm220 220h160v-160H400v160Zm0 220h160v-160H400v160ZM180-400h160v-160H180v160Zm440 0h160v-160H620v160ZM180-180h160v-160H180v160Zm440 0h160v-160H620v160Z\"/>\n",
              "  </svg>\n",
              "    </button>\n",
              "\n",
              "  <style>\n",
              "    .colab-df-container {\n",
              "      display:flex;\n",
              "      gap: 12px;\n",
              "    }\n",
              "\n",
              "    .colab-df-convert {\n",
              "      background-color: #E8F0FE;\n",
              "      border: none;\n",
              "      border-radius: 50%;\n",
              "      cursor: pointer;\n",
              "      display: none;\n",
              "      fill: #1967D2;\n",
              "      height: 32px;\n",
              "      padding: 0 0 0 0;\n",
              "      width: 32px;\n",
              "    }\n",
              "\n",
              "    .colab-df-convert:hover {\n",
              "      background-color: #E2EBFA;\n",
              "      box-shadow: 0px 1px 2px rgba(60, 64, 67, 0.3), 0px 1px 3px 1px rgba(60, 64, 67, 0.15);\n",
              "      fill: #174EA6;\n",
              "    }\n",
              "\n",
              "    .colab-df-buttons div {\n",
              "      margin-bottom: 4px;\n",
              "    }\n",
              "\n",
              "    [theme=dark] .colab-df-convert {\n",
              "      background-color: #3B4455;\n",
              "      fill: #D2E3FC;\n",
              "    }\n",
              "\n",
              "    [theme=dark] .colab-df-convert:hover {\n",
              "      background-color: #434B5C;\n",
              "      box-shadow: 0px 1px 3px 1px rgba(0, 0, 0, 0.15);\n",
              "      filter: drop-shadow(0px 1px 2px rgba(0, 0, 0, 0.3));\n",
              "      fill: #FFFFFF;\n",
              "    }\n",
              "  </style>\n",
              "\n",
              "    <script>\n",
              "      const buttonEl =\n",
              "        document.querySelector('#df-05b629ef-60c3-48e6-a8c5-304d0309c8b7 button.colab-df-convert');\n",
              "      buttonEl.style.display =\n",
              "        google.colab.kernel.accessAllowed ? 'block' : 'none';\n",
              "\n",
              "      async function convertToInteractive(key) {\n",
              "        const element = document.querySelector('#df-05b629ef-60c3-48e6-a8c5-304d0309c8b7');\n",
              "        const dataTable =\n",
              "          await google.colab.kernel.invokeFunction('convertToInteractive',\n",
              "                                                    [key], {});\n",
              "        if (!dataTable) return;\n",
              "\n",
              "        const docLinkHtml = 'Like what you see? Visit the ' +\n",
              "          '<a target=\"_blank\" href=https://colab.research.google.com/notebooks/data_table.ipynb>data table notebook</a>'\n",
              "          + ' to learn more about interactive tables.';\n",
              "        element.innerHTML = '';\n",
              "        dataTable['output_type'] = 'display_data';\n",
              "        await google.colab.output.renderOutput(dataTable, element);\n",
              "        const docLink = document.createElement('div');\n",
              "        docLink.innerHTML = docLinkHtml;\n",
              "        element.appendChild(docLink);\n",
              "      }\n",
              "    </script>\n",
              "  </div>\n",
              "\n",
              "\n",
              "<div id=\"df-81406c8d-59a4-4937-8754-2537c5d22762\">\n",
              "  <button class=\"colab-df-quickchart\" onclick=\"quickchart('df-81406c8d-59a4-4937-8754-2537c5d22762')\"\n",
              "            title=\"Suggest charts\"\n",
              "            style=\"display:none;\">\n",
              "\n",
              "<svg xmlns=\"http://www.w3.org/2000/svg\" height=\"24px\"viewBox=\"0 0 24 24\"\n",
              "     width=\"24px\">\n",
              "    <g>\n",
              "        <path d=\"M19 3H5c-1.1 0-2 .9-2 2v14c0 1.1.9 2 2 2h14c1.1 0 2-.9 2-2V5c0-1.1-.9-2-2-2zM9 17H7v-7h2v7zm4 0h-2V7h2v10zm4 0h-2v-4h2v4z\"/>\n",
              "    </g>\n",
              "</svg>\n",
              "  </button>\n",
              "\n",
              "<style>\n",
              "  .colab-df-quickchart {\n",
              "      --bg-color: #E8F0FE;\n",
              "      --fill-color: #1967D2;\n",
              "      --hover-bg-color: #E2EBFA;\n",
              "      --hover-fill-color: #174EA6;\n",
              "      --disabled-fill-color: #AAA;\n",
              "      --disabled-bg-color: #DDD;\n",
              "  }\n",
              "\n",
              "  [theme=dark] .colab-df-quickchart {\n",
              "      --bg-color: #3B4455;\n",
              "      --fill-color: #D2E3FC;\n",
              "      --hover-bg-color: #434B5C;\n",
              "      --hover-fill-color: #FFFFFF;\n",
              "      --disabled-bg-color: #3B4455;\n",
              "      --disabled-fill-color: #666;\n",
              "  }\n",
              "\n",
              "  .colab-df-quickchart {\n",
              "    background-color: var(--bg-color);\n",
              "    border: none;\n",
              "    border-radius: 50%;\n",
              "    cursor: pointer;\n",
              "    display: none;\n",
              "    fill: var(--fill-color);\n",
              "    height: 32px;\n",
              "    padding: 0;\n",
              "    width: 32px;\n",
              "  }\n",
              "\n",
              "  .colab-df-quickchart:hover {\n",
              "    background-color: var(--hover-bg-color);\n",
              "    box-shadow: 0 1px 2px rgba(60, 64, 67, 0.3), 0 1px 3px 1px rgba(60, 64, 67, 0.15);\n",
              "    fill: var(--button-hover-fill-color);\n",
              "  }\n",
              "\n",
              "  .colab-df-quickchart-complete:disabled,\n",
              "  .colab-df-quickchart-complete:disabled:hover {\n",
              "    background-color: var(--disabled-bg-color);\n",
              "    fill: var(--disabled-fill-color);\n",
              "    box-shadow: none;\n",
              "  }\n",
              "\n",
              "  .colab-df-spinner {\n",
              "    border: 2px solid var(--fill-color);\n",
              "    border-color: transparent;\n",
              "    border-bottom-color: var(--fill-color);\n",
              "    animation:\n",
              "      spin 1s steps(1) infinite;\n",
              "  }\n",
              "\n",
              "  @keyframes spin {\n",
              "    0% {\n",
              "      border-color: transparent;\n",
              "      border-bottom-color: var(--fill-color);\n",
              "      border-left-color: var(--fill-color);\n",
              "    }\n",
              "    20% {\n",
              "      border-color: transparent;\n",
              "      border-left-color: var(--fill-color);\n",
              "      border-top-color: var(--fill-color);\n",
              "    }\n",
              "    30% {\n",
              "      border-color: transparent;\n",
              "      border-left-color: var(--fill-color);\n",
              "      border-top-color: var(--fill-color);\n",
              "      border-right-color: var(--fill-color);\n",
              "    }\n",
              "    40% {\n",
              "      border-color: transparent;\n",
              "      border-right-color: var(--fill-color);\n",
              "      border-top-color: var(--fill-color);\n",
              "    }\n",
              "    60% {\n",
              "      border-color: transparent;\n",
              "      border-right-color: var(--fill-color);\n",
              "    }\n",
              "    80% {\n",
              "      border-color: transparent;\n",
              "      border-right-color: var(--fill-color);\n",
              "      border-bottom-color: var(--fill-color);\n",
              "    }\n",
              "    90% {\n",
              "      border-color: transparent;\n",
              "      border-bottom-color: var(--fill-color);\n",
              "    }\n",
              "  }\n",
              "</style>\n",
              "\n",
              "  <script>\n",
              "    async function quickchart(key) {\n",
              "      const quickchartButtonEl =\n",
              "        document.querySelector('#' + key + ' button');\n",
              "      quickchartButtonEl.disabled = true;  // To prevent multiple clicks.\n",
              "      quickchartButtonEl.classList.add('colab-df-spinner');\n",
              "      try {\n",
              "        const charts = await google.colab.kernel.invokeFunction(\n",
              "            'suggestCharts', [key], {});\n",
              "      } catch (error) {\n",
              "        console.error('Error during call to suggestCharts:', error);\n",
              "      }\n",
              "      quickchartButtonEl.classList.remove('colab-df-spinner');\n",
              "      quickchartButtonEl.classList.add('colab-df-quickchart-complete');\n",
              "    }\n",
              "    (() => {\n",
              "      let quickchartButtonEl =\n",
              "        document.querySelector('#df-81406c8d-59a4-4937-8754-2537c5d22762 button');\n",
              "      quickchartButtonEl.style.display =\n",
              "        google.colab.kernel.accessAllowed ? 'block' : 'none';\n",
              "    })();\n",
              "  </script>\n",
              "</div>\n",
              "\n",
              "    </div>\n",
              "  </div>\n"
            ]
          },
          "metadata": {},
          "execution_count": 3
        }
      ]
    },
    {
      "cell_type": "code",
      "source": [
        "#initialize parameters\n",
        "\n",
        "def initialize_parameters(layer_dims):\n",
        "\n",
        "    np.random.seed(44)  # For reproducibility, 42\n",
        "\n",
        "    parameters = {}\n",
        "    L = len(layer_dims)  # Number of layers in the network\n",
        "\n",
        "    for l in range(1, L):\n",
        "        # Initialize weights using He initialization for ReLU and Xavier/Glorot for others\n",
        "        if \"relu\" in str(layer_dims[l - 1]) or \"leaky_relu\" in str(layer_dims[l - 1]):\n",
        "            parameters[f'W{l}'] = np.random.randn(layer_dims[l], layer_dims[l - 1]) * np.sqrt(2 / layer_dims[l - 1])\n",
        "        else:\n",
        "            parameters[f'W{l}'] = np.random.randn(layer_dims[l], layer_dims[l - 1]) * np.sqrt(1 / layer_dims[l - 1])\n",
        "\n",
        "        # Initialize biases to zeros\n",
        "        parameters[f'b{l}'] = np.zeros((layer_dims[l], 1))\n",
        "\n",
        "    return parameters\n"
      ],
      "metadata": {
        "id": "GjxAtsT7HQyp"
      },
      "execution_count": null,
      "outputs": []
    },
    {
      "cell_type": "code",
      "source": [
        "\n",
        "def fully_connected_layer(x, W, b):\n",
        "    \"\"\"\n",
        "    Compute the output of a fully connected layer.\n",
        "\n",
        "    Parameters:\n",
        "    - x: Input vector of shape (input_size, 1).\n",
        "    - W: Weight matrix of shape (output_size, input_size).\n",
        "    - b: Bias vector of shape (output_size, 1).\n",
        "\n",
        "    Returns:\n",
        "    - z: Output vector of shape (output_size, 1).\n",
        "    \"\"\"\n",
        "    z = np.dot(W, x) + b\n",
        "    return z\n"
      ],
      "metadata": {
        "id": "UUQu1ISmJcaw"
      },
      "execution_count": null,
      "outputs": []
    },
    {
      "cell_type": "code",
      "source": [
        "#relu function\n",
        "\n",
        "def relu(z):\n",
        "    \"\"\"\n",
        "    Compute the ReLU activation for a given input.\n",
        "\n",
        "    Parameters:\n",
        "    - z: Input value or array.\n",
        "\n",
        "    Returns:\n",
        "    - A: ReLU activation of the input.\n",
        "    \"\"\"\n",
        "    A = np.maximum(0, z)\n",
        "    return A\n"
      ],
      "metadata": {
        "id": "zAq4JfyrJxIS"
      },
      "execution_count": null,
      "outputs": []
    },
    {
      "cell_type": "code",
      "source": [
        "#sigmoid function\n",
        "\n",
        "def sigmoid(z):\n",
        "    \"\"\"\n",
        "    Compute the sigmoid activation for a given input.\n",
        "\n",
        "    Parameters:\n",
        "    - z: Input value or array.\n",
        "\n",
        "    Returns:\n",
        "    - A: Sigmoid activation of the input.\n",
        "    \"\"\"\n",
        "    A = 1 / (1 + np.exp(-z))\n",
        "    return A\n"
      ],
      "metadata": {
        "id": "3MtPsqxVjm9b"
      },
      "execution_count": null,
      "outputs": []
    },
    {
      "cell_type": "code",
      "source": [
        "#forward pass through the network\n",
        "\n",
        "def forward_pass(X, parameters):\n",
        "    \"\"\"\n",
        "    Perform a forward pass through the neural network.\n",
        "\n",
        "    Parameters:\n",
        "    - X: Input data of shape (input_size, m), where m is the number of examples.\n",
        "    - parameters: Dictionary containing initialized weights and biases.\n",
        "\n",
        "    Returns:\n",
        "    - AL: Output of the last layer (final predictions).\n",
        "    - caches: List of caches containing intermediate values for each layer.\n",
        "    \"\"\"\n",
        "\n",
        "    caches = []\n",
        "    A = X  # Input to the first layer is the input data\n",
        "\n",
        "    # Loop through each layer except the last one\n",
        "    for l in range(1, len(parameters) // 2):\n",
        "        W = parameters[f'W{l}']     #getting the weights associated with this layer\n",
        "        b = parameters[f'b{l}']     #getting the biaes associated with this layer\n",
        "\n",
        "        Z = np.dot(W, A) + b  # Linear transformation, using the weights, biases, and the input data\n",
        "        A = relu(Z)  # Activation function (use the appropriate activation function)\n",
        "        #The above A becomes the new input data for the next layer. We will use this A with the weights of the next layer for the next layer\n",
        "        #are using relu function for hidden layers, but sigmoid function for output layer\n",
        "\n",
        "        cache = (A, W, b, Z)  # Cache intermediate values for backward pass\n",
        "        caches.append(cache)\n",
        "\n",
        "    # Output layer (no activation function for the last layer)\n",
        "    W_output = parameters[f'W{len(parameters)//2}']\n",
        "    b_output = parameters[f'b{len(parameters)//2}']\n",
        "    AL = sigmoid(np.dot(W_output, A) + b_output)  # Linear transformation for the output layer\n",
        "\n",
        "    return AL, caches\n"
      ],
      "metadata": {
        "id": "55rpIYgiJzQE"
      },
      "execution_count": null,
      "outputs": []
    },
    {
      "cell_type": "code",
      "source": [
        "from sklearn.model_selection import train_test_split\n",
        "from sklearn.preprocessing import StandardScaler\n",
        "\n",
        "df = pd.get_dummies(df, columns = ['purpose'], drop_first=True)\n",
        "\n",
        "X = df.drop('credit.policy', axis = 1)\n",
        "y = df['credit.policy']\n"
      ],
      "metadata": {
        "id": "gEtDIszhfeT9"
      },
      "execution_count": null,
      "outputs": []
    },
    {
      "cell_type": "code",
      "source": [
        "X = df.drop('credit.policy', axis = 1)\n",
        "y = df['credit.policy']"
      ],
      "metadata": {
        "id": "Ky29oubNfgQB"
      },
      "execution_count": null,
      "outputs": []
    },
    {
      "cell_type": "code",
      "source": [
        "X_train, X_temp, y_train, y_temp = train_test_split(X, y, test_size = 0.3, random_state = 4)\n",
        "X_val, X_test, y_val, y_test = train_test_split(X_temp, y_temp, test_size = 0.5, random_state=42)\n",
        "\n",
        "scaler = StandardScaler()\n",
        "X_train = scaler.fit_transform(X_train)\n",
        "X_val = scaler.transform(X_val)\n",
        "X_test = scaler.transform(X_test)\n",
        "\n",
        "print(X_train.shape, X_val.shape, X_test.shape)"
      ],
      "metadata": {
        "colab": {
          "base_uri": "https://localhost:8080/"
        },
        "id": "31DsyaetfjG2",
        "outputId": "f850d654-e363-4b73-a3d8-387601a7993e"
      },
      "execution_count": null,
      "outputs": [
        {
          "output_type": "stream",
          "name": "stdout",
          "text": [
            "(6704, 18) (1437, 18) (1437, 18)\n"
          ]
        }
      ]
    },
    {
      "cell_type": "code",
      "source": [
        "input_size = X_train.shape[1]\n",
        "\n",
        "layer_dimensions = [input_size, 64, 32, 16, 8]\n",
        "\n",
        "params = initialize_parameters(layer_dimensions)\n",
        "\n",
        "AL_output, caches = forward_pass(X_train.T, params)\n",
        "\n",
        "print(AL_output)"
      ],
      "metadata": {
        "colab": {
          "base_uri": "https://localhost:8080/"
        },
        "id": "VHO1St18fnMu",
        "outputId": "f42c862d-0edf-4c42-fff3-ad1399baeff4"
      },
      "execution_count": null,
      "outputs": [
        {
          "output_type": "stream",
          "name": "stdout",
          "text": [
            "[[0.58651898 0.54976912 0.63920951 ... 0.55451369 0.78606606 0.61400603]\n",
            " [0.47731794 0.48858321 0.36726403 ... 0.49111386 0.20781631 0.42460883]\n",
            " [0.57397437 0.55644151 0.57882842 ... 0.55552963 0.5224471  0.55677244]\n",
            " ...\n",
            " [0.51777351 0.48866856 0.48790526 ... 0.48525794 0.59523887 0.48986283]\n",
            " [0.46660456 0.48037891 0.45131107 ... 0.48514048 0.55891116 0.48883107]\n",
            " [0.41129767 0.5387897  0.34807983 ... 0.45152648 0.5153603  0.4341979 ]]\n"
          ]
        }
      ]
    },
    {
      "cell_type": "markdown",
      "source": [
        "Initializing the weights using 42 as the seeding changes the output compared to initializing the weights of the model using 44 as the seeding. Comparison is shown in the two code boxes below. Comparison between the respective outputs in each model shows the model making different decisions for the same data point. For example, the first prediction of the first model has an output of 0.449, while the first prediction of the second model has an output of 0.575, indicating that the same data point would be categorized into different bins depending on which weight initialization is being used."
      ],
      "metadata": {
        "id": "Y2Ilqo2LvLuM"
      }
    },
    {
      "cell_type": "code",
      "source": [
        "# output using 42 seed for weights, 5 total layers:\n",
        "# [[0.44947922 0.4379565  0.41473257 ... 0.43933837 0.42470559 0.42826027]\n",
        "#  [0.49938151 0.53642777 0.59573421 ... 0.54253857 0.63319478 0.59870072]\n",
        "#  [0.51068375 0.54076568 0.53287099 ... 0.50973727 0.54857595 0.59634047]\n",
        "#  ...\n",
        "#  [0.51560929 0.52952328 0.52186622 ... 0.45314267 0.48232319 0.54466107]\n",
        "#  [0.50485357 0.51393171 0.5509693  ... 0.51478935 0.56387069 0.57108607]\n",
        "#  [0.51425811 0.45130172 0.44005476 ... 0.51321277 0.53805588 0.52757862]]"
      ],
      "metadata": {
        "id": "xwpOE2RXhyWJ"
      },
      "execution_count": null,
      "outputs": []
    },
    {
      "cell_type": "code",
      "source": [
        "# output using 44 seed for weights, 5 total layers:\n",
        "# [[0.57514627 0.45362831 0.56301453 ... 0.5121625  0.49354015 0.57943614]\n",
        "#  [0.5462321  0.55284591 0.59226709 ... 0.5149443  0.50777261 0.57796563]\n",
        "#  [0.55823962 0.60953549 0.54417225 ... 0.54415799 0.53494227 0.46879427]\n",
        "#  ...\n",
        "#  [0.46064935 0.5368371  0.56037433 ... 0.50482341 0.4589306  0.52634649]\n",
        "#  [0.45686018 0.43291895 0.35892164 ... 0.39889012 0.48998121 0.42637816]\n",
        "#  [0.50426535 0.49667608 0.54044721 ... 0.53639567 0.44636753 0.40521653]]"
      ],
      "metadata": {
        "id": "BIF-3vV__mxk"
      },
      "execution_count": null,
      "outputs": []
    },
    {
      "cell_type": "markdown",
      "source": [
        "The architecture of the model is changed from 7 total layers to 6 total layers in the two code boxes below. In the second box, the layer of 128 nodes is eliminated. The output of the model is changed but the classifications tend to be more conisistent than two models with different initial weights. For example, in nodes 6-8 of the output layer for both models, most of the classifications from one model to the other model tend to stay the same."
      ],
      "metadata": {
        "id": "VJaZ8dBAvp7w"
      }
    },
    {
      "cell_type": "code",
      "source": [
        "# output using 44 seed for weights, 7 layers (input_size, 256, 128, 64, 32, 16, 8)\n",
        "# [[0.48948346 0.48886314 0.51134798 ... 0.49744945 0.58357369 0.5439165 ]\n",
        "#  [0.51626725 0.52154744 0.5385     ... 0.50638072 0.59303105 0.55473561]\n",
        "#  [0.50657948 0.5239321  0.51558508 ... 0.48851091 0.50134086 0.52053463]\n",
        "#  ...\n",
        "#  [0.490998   0.48780191 0.49472759 ... 0.49341087 0.52701609 0.48173752]\n",
        "#  [0.52307271 0.54792756 0.49586833 ... 0.52665909 0.54488522 0.50139908]\n",
        "#  [0.50906957 0.484195   0.5036739  ... 0.52704451 0.51114608 0.47510923]]"
      ],
      "metadata": {
        "id": "aGXb30GiCDX6"
      },
      "execution_count": null,
      "outputs": []
    },
    {
      "cell_type": "code",
      "source": [
        "# output using 44 seed for weights, 6 layers (input_size, 256, 64, 32, 16, 8)\n",
        "# [[0.57014613 0.52382215 0.52221409 ... 0.53486156 0.56770563 0.62095855]\n",
        "#  [0.48783343 0.48924647 0.45699233 ... 0.45640418 0.39047119 0.43932993]\n",
        "#  [0.5330569  0.52809136 0.57969741 ... 0.57043987 0.61188944 0.65004017]\n",
        "#  ...\n",
        "#  [0.3303512  0.43319965 0.38166686 ... 0.37276715 0.29133827 0.39503282]\n",
        "#  [0.51411731 0.56954048 0.5742481  ... 0.56137118 0.58761634 0.5961994 ]\n",
        "#  [0.47622982 0.53163762 0.45910918 ... 0.4818462  0.49108354 0.45222534]]"
      ],
      "metadata": {
        "id": "-E2qIwb2un0X"
      },
      "execution_count": null,
      "outputs": []
    },
    {
      "cell_type": "markdown",
      "source": [
        "For the code below, the only difference from the above two models was the reduction of two layers. Even with less layers, classification generally stayed consistent across both models."
      ],
      "metadata": {
        "id": "rCjNGoW3zZ5V"
      }
    },
    {
      "cell_type": "code",
      "source": [
        "# output using 44 seed for weights, 4 total layers (input_size, 64, 32, 16, 8):\n",
        "# [[0.58651898 0.54976912 0.63920951 ... 0.55451369 0.78606606 0.61400603]\n",
        "#  [0.47731794 0.48858321 0.36726403 ... 0.49111386 0.20781631 0.42460883]\n",
        "#  [0.57397437 0.55644151 0.57882842 ... 0.55552963 0.5224471  0.55677244]\n",
        "#  ...\n",
        "#  [0.51777351 0.48866856 0.48790526 ... 0.48525794 0.59523887 0.48986283]\n",
        "#  [0.46660456 0.48037891 0.45131107 ... 0.48514048 0.55891116 0.48883107]\n",
        "#  [0.41129767 0.5387897  0.34807983 ... 0.45152648 0.5153603  0.4341979 ]]\n"
      ],
      "metadata": {
        "id": "lj6HUFScBH_v"
      },
      "execution_count": null,
      "outputs": []
    },
    {
      "cell_type": "code",
      "source": [
        "#weights\n",
        "\n",
        "params['W1']\n"
      ],
      "metadata": {
        "colab": {
          "base_uri": "https://localhost:8080/"
        },
        "id": "CsOB2huYQJhc",
        "outputId": "03c06c94-8c5c-4151-ec61-8f4c747c0997"
      },
      "execution_count": null,
      "outputs": [
        {
          "output_type": "execute_result",
          "data": {
            "text/plain": [
              "array([[-0.17692159,  0.3102684 ,  0.29371802, ...,  0.08505459,\n",
              "         0.24998823, -0.02761303],\n",
              "       [ 0.19461107, -0.28515579, -0.28060439, ...,  0.19450678,\n",
              "         0.10045713,  0.0461128 ],\n",
              "       [-0.1211774 , -0.7244754 , -0.09313989, ...,  0.34066933,\n",
              "         0.01150776,  0.02129087],\n",
              "       ...,\n",
              "       [ 0.14806878, -0.07492891, -0.14535469, ..., -0.1178558 ,\n",
              "         0.01897576,  0.27236301],\n",
              "       [ 0.21098298, -0.03191905,  0.00716181, ...,  0.0200216 ,\n",
              "         0.00825146, -0.14967674],\n",
              "       [ 0.14951427,  0.47289721, -0.22449289, ...,  0.39311828,\n",
              "         0.37948183,  0.06418796]])"
            ]
          },
          "metadata": {},
          "execution_count": 17
        }
      ]
    },
    {
      "cell_type": "code",
      "source": [
        "# weights using 42 seed\n",
        "# [ 0.11707665, -0.03258921,  0.15266165, ..., -0.13253244,\n",
        "#         -0.23872658,  0.07406881],\n",
        "#        [-0.21402333, -0.33288317,  0.34545673, ..., -0.24930486,\n",
        "#          0.1938757 , -0.28775561],\n",
        "#        [ 0.04922962, -0.46189868, -0.31305645, ..., -0.09076476,\n",
        "#         -0.15955205,  0.14417348],\n",
        "#        ...,\n",
        "#        [-0.03006362,  0.35618263, -0.34204539, ...,  0.28107672,\n",
        "#         -0.41921711,  0.07534266],\n",
        "#        [-0.11883633, -0.01921508,  0.08194813, ..., -0.23126293,\n",
        "#         -0.10946113,  0.1089088 ],\n",
        "#        [ 0.18464691, -0.05928828, -0.1408345 , ..., -0.23524515,\n",
        "#         -0.0905029 ,  0.05897275]]"
      ],
      "metadata": {
        "id": "-gyft0-i9Mtg"
      },
      "execution_count": null,
      "outputs": []
    },
    {
      "cell_type": "code",
      "source": [
        "# Weights using 44 seed\n",
        "# [[-0.17692159,  0.3102684 ,  0.29371802, ...,  0.08505459,\n",
        "#          0.24998823, -0.02761303],\n",
        "#        [ 0.19461107, -0.28515579, -0.28060439, ...,  0.19450678,\n",
        "#          0.10045713,  0.0461128 ],\n",
        "#        [-0.1211774 , -0.7244754 , -0.09313989, ...,  0.34066933,\n",
        "#          0.01150776,  0.02129087],\n",
        "#        ...,\n",
        "#        [-0.17510662, -0.1266536 ,  0.12091032, ..., -0.45464054,\n",
        "#          0.03071322,  0.10051081],\n",
        "#        [-0.18665291,  0.61820224, -0.3080887 , ..., -0.14765817,\n",
        "#         -0.20549358,  0.03001243],\n",
        "#        [ 0.1770988 , -0.06944502, -0.21267285, ...,  0.42746559,\n",
        "#          0.22332741, -0.08536218]]"
      ],
      "metadata": {
        "id": "Gc6TAofG_zC2"
      },
      "execution_count": null,
      "outputs": []
    }
  ]
}